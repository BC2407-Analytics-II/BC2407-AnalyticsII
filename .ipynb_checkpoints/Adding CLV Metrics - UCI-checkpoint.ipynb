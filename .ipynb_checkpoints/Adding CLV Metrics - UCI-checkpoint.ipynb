{
 "cells": [
  {
   "cell_type": "markdown",
   "id": "8e8cf6bd",
   "metadata": {},
   "source": [
    "## CALCULATING METRICS"
   ]
  },
  {
   "cell_type": "markdown",
   "id": "4df75da6",
   "metadata": {},
   "source": [
    "## Calculating CLV\n",
    "\n",
    "CLV = ((Average sales x purchase frequency) / churn) x profit margin\n",
    "\n",
    "average sales = totalSales / total no of orders\n",
    "\n",
    "purchase frequency = total number of orders / total unique customers\n",
    "\n",
    "retention rate = total no of orders greater than 1 / total unique customers\n",
    "\n",
    "churn = 1 - retention rate\n",
    "\n",
    "profit margin = based on business context\n",
    "\n",
    "https://www.analyticsvidhya.com/blog/2020/10/a-definitive-guide-for-predicting-customer-lifetime-value-clv/\n",
    "\n",
    "## Ways to Calculate CLV\n",
    "\n",
    "historic approach: calculate CLVs by aggregate or by cohort\n",
    "\n",
    "predictive approach: calculate CLVs by regression techniques"
   ]
  },
  {
   "cell_type": "code",
   "execution_count": null,
   "id": "63f96632",
   "metadata": {},
   "outputs": [],
   "source": []
  }
 ],
 "metadata": {
  "kernelspec": {
   "display_name": "Python 3 (ipykernel)",
   "language": "python",
   "name": "python3"
  },
  "language_info": {
   "codemirror_mode": {
    "name": "ipython",
    "version": 3
   },
   "file_extension": ".py",
   "mimetype": "text/x-python",
   "name": "python",
   "nbconvert_exporter": "python",
   "pygments_lexer": "ipython3",
   "version": "3.9.7"
  }
 },
 "nbformat": 4,
 "nbformat_minor": 5
}
